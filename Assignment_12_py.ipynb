{
  "nbformat": 4,
  "nbformat_minor": 0,
  "metadata": {
    "colab": {
      "name": "Assignment 12.py",
      "provenance": [],
      "collapsed_sections": [],
      "authorship_tag": "ABX9TyOMV0RUWrZQmhej/pQbLA7R",
      "include_colab_link": true
    },
    "kernelspec": {
      "name": "python3",
      "display_name": "Python 3"
    }
  },
  "cells": [
    {
      "cell_type": "markdown",
      "metadata": {
        "id": "view-in-github",
        "colab_type": "text"
      },
      "source": [
        "<a href=\"https://colab.research.google.com/github/vamsi2805/Assignment-12/blob/master/Assignment_12_py.ipynb\" target=\"_parent\"><img src=\"https://colab.research.google.com/assets/colab-badge.svg\" alt=\"Open In Colab\"/></a>"
      ]
    },
    {
      "cell_type": "markdown",
      "metadata": {
        "id": "Z1pnP_cVI-2r",
        "colab_type": "text"
      },
      "source": [
        "1.Write a program to create a tuple"
      ]
    },
    {
      "cell_type": "code",
      "metadata": {
        "id": "qTqteSgGJG1G",
        "colab_type": "code",
        "colab": {
          "base_uri": "https://localhost:8080/",
          "height": 34
        },
        "outputId": "24717d4a-ffc6-47d2-a16d-fcb067a51cfe"
      },
      "source": [
        "t1 = (2,3,4,5,6,7)\n",
        "print(t1, type(t1))"
      ],
      "execution_count": 2,
      "outputs": [
        {
          "output_type": "stream",
          "text": [
            "(2, 3, 4, 5, 6, 7) <class 'tuple'>\n"
          ],
          "name": "stdout"
        }
      ]
    },
    {
      "cell_type": "markdown",
      "metadata": {
        "id": "IJq4ARYgJPpZ",
        "colab_type": "text"
      },
      "source": [
        "2.Write a program to create a tuple with different data types."
      ]
    },
    {
      "cell_type": "code",
      "metadata": {
        "id": "TrPwsciDJVWv",
        "colab_type": "code",
        "colab": {
          "base_uri": "https://localhost:8080/",
          "height": 34
        },
        "outputId": "2d7d2f6a-4681-4e7e-fea9-03dd632cfabb"
      },
      "source": [
        "t1 = (0,1.5,\"Vamsi\",[\"Bye\",1,6])\n",
        "print(t1, type(t1))"
      ],
      "execution_count": 3,
      "outputs": [
        {
          "output_type": "stream",
          "text": [
            "(0, 1.5, 'Vamsi', ['Bye', 1, 6]) <class 'tuple'>\n"
          ],
          "name": "stdout"
        }
      ]
    },
    {
      "cell_type": "markdown",
      "metadata": {
        "id": "QJotZO_5JirC",
        "colab_type": "text"
      },
      "source": [
        "3.write a program to convert a tuple into a string."
      ]
    },
    {
      "cell_type": "code",
      "metadata": {
        "id": "4ctfDkRxJm1l",
        "colab_type": "code",
        "colab": {
          "base_uri": "https://localhost:8080/",
          "height": 34
        },
        "outputId": "15726a71-21b4-42ba-b82a-78c1fbe5a55a"
      },
      "source": [
        "t1 = (\"V\",\"A\",\"M\",\"S\",\"I\")\n",
        "str = \"\".join(t1)\n",
        "print(\"Tuple converted string:\",str)"
      ],
      "execution_count": 4,
      "outputs": [
        {
          "output_type": "stream",
          "text": [
            "Tuple converted string: VAMSI\n"
          ],
          "name": "stdout"
        }
      ]
    },
    {
      "cell_type": "markdown",
      "metadata": {
        "id": "vUknmMGWJwiL",
        "colab_type": "text"
      },
      "source": [
        "4.Writa a program to slice a tuple."
      ]
    },
    {
      "cell_type": "code",
      "metadata": {
        "id": "s8cXhuOnJ2dW",
        "colab_type": "code",
        "colab": {
          "base_uri": "https://localhost:8080/",
          "height": 34
        },
        "outputId": "3fe856d1-170c-43d0-fbf2-14f5f7ce3fe3"
      },
      "source": [
        "t1 = (1,2,3,4,5,6,7,8,9,10)\n",
        "slice_tup = (t1[2:6])\n",
        "print(\"Sliced tuple:\",slice_tup)"
      ],
      "execution_count": 5,
      "outputs": [
        {
          "output_type": "stream",
          "text": [
            "Sliced tuple: (3, 4, 5, 6)\n"
          ],
          "name": "stdout"
        }
      ]
    },
    {
      "cell_type": "markdown",
      "metadata": {
        "id": "x7VsOiFuJ5n4",
        "colab_type": "text"
      },
      "source": [
        "5.write a Program to find the length of a tuple."
      ]
    },
    {
      "cell_type": "code",
      "metadata": {
        "id": "u9jWj6gaJ9Q3",
        "colab_type": "code",
        "colab": {
          "base_uri": "https://localhost:8080/",
          "height": 34
        },
        "outputId": "92f5092c-ca5b-4098-bdba-b2f4c8c6d8f1"
      },
      "source": [
        "t1 = (1,2,3,4,5,6,7,8,9,10)\n",
        "count = 0\n",
        "for item in t1:\n",
        "  count+=1\n",
        "print(\"Length of the tuple:\",count)"
      ],
      "execution_count": 6,
      "outputs": [
        {
          "output_type": "stream",
          "text": [
            "Length of the tuple: 10\n"
          ],
          "name": "stdout"
        }
      ]
    },
    {
      "cell_type": "markdown",
      "metadata": {
        "id": "Sr-M4SWNKBad",
        "colab_type": "text"
      },
      "source": [
        "6.Write a program to convert a tuple into a dictionary."
      ]
    },
    {
      "cell_type": "code",
      "metadata": {
        "id": "phtjGFUVKIMK",
        "colab_type": "code",
        "colab": {
          "base_uri": "https://localhost:8080/",
          "height": 34
        },
        "outputId": "e278f3b1-7676-472f-9a08-9a159951106a"
      },
      "source": [
        "t1 = ((\"one\",1),(\"two\",2),(\"three\",3),(\"four\",4))\n",
        "converted_dict = dict(t1)\n",
        "print(\"Converted Dictionary:\",converted_dict)"
      ],
      "execution_count": 8,
      "outputs": [
        {
          "output_type": "stream",
          "text": [
            "Converted Dictionary: {'one': 1, 'two': 2, 'three': 3, 'four': 4}\n"
          ],
          "name": "stdout"
        }
      ]
    },
    {
      "cell_type": "markdown",
      "metadata": {
        "id": "bUXgb7BfKPv0",
        "colab_type": "text"
      },
      "source": [
        "7.Write a program to convert a list of tuples into a dictionary."
      ]
    },
    {
      "cell_type": "code",
      "metadata": {
        "id": "LYuhpYOcKVUm",
        "colab_type": "code",
        "colab": {
          "base_uri": "https://localhost:8080/",
          "height": 34
        },
        "outputId": "1c2e80e9-1560-4eaf-f4f3-50344dc2476f"
      },
      "source": [
        "l1 = [(\"one\",1),(\"two\",2),(\"three\",3),(\"four\",4)]\n",
        "dict_converted = dict(l1)\n",
        "print(\"Dictionary converted list:\",dict_converted)"
      ],
      "execution_count": 9,
      "outputs": [
        {
          "output_type": "stream",
          "text": [
            "Dictionary converted list: {'one': 1, 'two': 2, 'three': 3, 'four': 4}\n"
          ],
          "name": "stdout"
        }
      ]
    },
    {
      "cell_type": "markdown",
      "metadata": {
        "id": "TiA8ptcNKgm3",
        "colab_type": "text"
      },
      "source": [
        "8.Write a program to convert a list of tuples into a tuple."
      ]
    },
    {
      "cell_type": "code",
      "metadata": {
        "id": "yMkTeB63KotC",
        "colab_type": "code",
        "colab": {
          "base_uri": "https://localhost:8080/",
          "height": 34
        },
        "outputId": "27781b40-6568-4e28-9726-a2d5e22efbeb"
      },
      "source": [
        "list = [\"vamsi\",\"dinesh\",\"raja\"]\n",
        "print(\"Tuple converted list:\",tuple(list))"
      ],
      "execution_count": 10,
      "outputs": [
        {
          "output_type": "stream",
          "text": [
            "Tuple converted list: ('vamsi', 'dinesh', 'raja')\n"
          ],
          "name": "stdout"
        }
      ]
    }
  ]
}